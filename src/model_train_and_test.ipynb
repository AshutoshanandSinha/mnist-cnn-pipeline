{
 "cells": [
  {
   "cell_type": "code",
   "execution_count": 2,
   "id": "2744a65b-4bcd-43ba-838b-fd5f09a785c0",
   "metadata": {},
   "outputs": [
    {
     "name": "stdout",
     "output_type": "stream",
     "text": [
      "----------------------------------------------------------------\n",
      "        Layer (type)               Output Shape         Param #\n",
      "================================================================\n",
      "            Conv2d-1            [-1, 8, 26, 26]              72\n",
      "       BatchNorm2d-2            [-1, 8, 26, 26]              16\n",
      "              ReLU-3            [-1, 8, 26, 26]               0\n",
      "            Conv2d-4           [-1, 12, 24, 24]             864\n",
      "       BatchNorm2d-5           [-1, 12, 24, 24]              24\n",
      "              ReLU-6           [-1, 12, 24, 24]               0\n",
      "            Conv2d-7           [-1, 16, 22, 22]           1,728\n",
      "       BatchNorm2d-8           [-1, 16, 22, 22]              32\n",
      "              ReLU-9           [-1, 16, 22, 22]               0\n",
      "           Conv2d-10           [-1, 20, 20, 20]           2,880\n",
      "      BatchNorm2d-11           [-1, 20, 20, 20]              40\n",
      "             ReLU-12           [-1, 20, 20, 20]               0\n",
      "        MaxPool2d-13           [-1, 20, 10, 10]               0\n",
      "           Conv2d-14           [-1, 12, 10, 10]             252\n",
      "      BatchNorm2d-15           [-1, 12, 10, 10]              24\n",
      "             ReLU-16           [-1, 12, 10, 10]               0\n",
      "           Conv2d-17           [-1, 16, 10, 10]           1,728\n",
      "      BatchNorm2d-18           [-1, 16, 10, 10]              32\n",
      "             ReLU-19           [-1, 16, 10, 10]               0\n",
      "           Conv2d-20           [-1, 16, 10, 10]           2,304\n",
      "      BatchNorm2d-21           [-1, 16, 10, 10]              32\n",
      "             ReLU-22           [-1, 16, 10, 10]               0\n",
      "           Conv2d-23           [-1, 16, 10, 10]           2,304\n",
      "      BatchNorm2d-24           [-1, 16, 10, 10]              32\n",
      "             ReLU-25           [-1, 16, 10, 10]               0\n",
      "AdaptiveAvgPool2d-26             [-1, 16, 1, 1]               0\n",
      "           Conv2d-27             [-1, 10, 1, 1]             170\n",
      "================================================================\n",
      "Total params: 12,534\n",
      "Trainable params: 12,534\n",
      "Non-trainable params: 0\n",
      "----------------------------------------------------------------\n",
      "Input size (MB): 0.00\n",
      "Forward/backward pass size (MB): 0.80\n",
      "Params size (MB): 0.05\n",
      "Estimated Total Size (MB): 0.85\n",
      "----------------------------------------------------------------\n",
      "\n",
      "Model Parameter Summary:\n",
      "----------------------------------------\n",
      "block1 Parameters: 88\n",
      "block2 Parameters: 888\n",
      "block3 Parameters: 1,760\n",
      "block4 Parameters: 2,920\n",
      "block5 Parameters: 0\n",
      "block6 Parameters: 276\n",
      "block7 Parameters: 1,760\n",
      "block8 Parameters: 2,336\n",
      "block9 Parameters: 2,336\n",
      "block10 Parameters: 0\n",
      "block11 Parameters: 170\n",
      "----------------------------------------\n",
      "Total Parameters: 12,534\n",
      "----------------------------------------\n"
     ]
    },
    {
     "name": "stderr",
     "output_type": "stream",
     "text": [
      "Calculating dataset statistics: 100%|█████████████████| 60/60 [00:09<00:00,  6.36it/s]\n"
     ]
    },
    {
     "name": "stdout",
     "output_type": "stream",
     "text": [
      "Dataset statistics - Mean: 0.1307, Std: 0.3015\n",
      "\n",
      "Epoch 1/20\n"
     ]
    },
    {
     "name": "stderr",
     "output_type": "stream",
     "text": [
      "Training Epoch 1: 100%|█████████████████████████████| 469/469 [01:01<00:00,  7.67it/s]\n",
      "Testing: 100%|████████████████████████████████████████| 79/79 [00:08<00:00,  9.49it/s]\n"
     ]
    },
    {
     "name": "stdout",
     "output_type": "stream",
     "text": [
      "Epoch 1\n",
      "Training - Loss: 1.9699, Accuracy: 38.86%\n",
      "Testing  - Accuracy: 70.76%\n",
      "Best Test Accuracy: 70.76%\n",
      "\n",
      "Epoch 2/20\n"
     ]
    },
    {
     "name": "stderr",
     "output_type": "stream",
     "text": [
      "Training Epoch 2: 100%|█████████████████████████████| 469/469 [00:46<00:00,  9.99it/s]\n",
      "Testing: 100%|████████████████████████████████████████| 79/79 [00:08<00:00,  9.83it/s]\n"
     ]
    },
    {
     "name": "stdout",
     "output_type": "stream",
     "text": [
      "Epoch 2\n",
      "Training - Loss: 1.2410, Accuracy: 84.32%\n",
      "Testing  - Accuracy: 96.23%\n",
      "Best Test Accuracy: 96.23%\n",
      "\n",
      "Epoch 3/20\n"
     ]
    },
    {
     "name": "stderr",
     "output_type": "stream",
     "text": [
      "Training Epoch 3: 100%|█████████████████████████████| 469/469 [00:49<00:00,  9.41it/s]\n",
      "Testing: 100%|████████████████████████████████████████| 79/79 [00:08<00:00,  9.07it/s]\n"
     ]
    },
    {
     "name": "stdout",
     "output_type": "stream",
     "text": [
      "Epoch 3\n",
      "Training - Loss: 0.7078, Accuracy: 96.79%\n",
      "Testing  - Accuracy: 97.84%\n",
      "Best Test Accuracy: 97.84%\n",
      "\n",
      "Epoch 4/20\n"
     ]
    },
    {
     "name": "stderr",
     "output_type": "stream",
     "text": [
      "Training Epoch 4: 100%|█████████████████████████████| 469/469 [00:46<00:00, 10.06it/s]\n",
      "Testing: 100%|████████████████████████████████████████| 79/79 [00:08<00:00,  9.36it/s]\n"
     ]
    },
    {
     "name": "stdout",
     "output_type": "stream",
     "text": [
      "Epoch 4\n",
      "Training - Loss: 0.6092, Accuracy: 97.82%\n",
      "Testing  - Accuracy: 98.04%\n",
      "Best Test Accuracy: 98.04%\n",
      "\n",
      "Epoch 5/20\n"
     ]
    },
    {
     "name": "stderr",
     "output_type": "stream",
     "text": [
      "Training Epoch 5: 100%|█████████████████████████████| 469/469 [00:46<00:00, 10.18it/s]\n",
      "Testing: 100%|████████████████████████████████████████| 79/79 [00:08<00:00,  9.46it/s]\n"
     ]
    },
    {
     "name": "stdout",
     "output_type": "stream",
     "text": [
      "Epoch 5\n",
      "Training - Loss: 0.5847, Accuracy: 98.37%\n",
      "Testing  - Accuracy: 98.74%\n",
      "Best Test Accuracy: 98.74%\n",
      "\n",
      "Epoch 6/20\n"
     ]
    },
    {
     "name": "stderr",
     "output_type": "stream",
     "text": [
      "Training Epoch 6: 100%|█████████████████████████████| 469/469 [00:45<00:00, 10.33it/s]\n",
      "Testing: 100%|████████████████████████████████████████| 79/79 [00:08<00:00,  9.41it/s]\n"
     ]
    },
    {
     "name": "stdout",
     "output_type": "stream",
     "text": [
      "Epoch 6\n",
      "Training - Loss: 0.5712, Accuracy: 98.69%\n",
      "Testing  - Accuracy: 98.99%\n",
      "Best Test Accuracy: 98.99%\n",
      "\n",
      "Epoch 7/20\n"
     ]
    },
    {
     "name": "stderr",
     "output_type": "stream",
     "text": [
      "Training Epoch 7: 100%|█████████████████████████████| 469/469 [00:45<00:00, 10.27it/s]\n",
      "Testing: 100%|████████████████████████████████████████| 79/79 [00:07<00:00, 11.12it/s]\n"
     ]
    },
    {
     "name": "stdout",
     "output_type": "stream",
     "text": [
      "Epoch 7\n",
      "Training - Loss: 0.5635, Accuracy: 98.82%\n",
      "Testing  - Accuracy: 98.83%\n",
      "Best Test Accuracy: 98.99%\n",
      "\n",
      "Epoch 8/20\n"
     ]
    },
    {
     "name": "stderr",
     "output_type": "stream",
     "text": [
      "Training Epoch 8: 100%|█████████████████████████████| 469/469 [00:44<00:00, 10.48it/s]\n",
      "Testing: 100%|████████████████████████████████████████| 79/79 [00:08<00:00,  9.70it/s]\n"
     ]
    },
    {
     "name": "stdout",
     "output_type": "stream",
     "text": [
      "Epoch 8\n",
      "Training - Loss: 0.5599, Accuracy: 98.89%\n",
      "Testing  - Accuracy: 99.32%\n",
      "Best Test Accuracy: 99.32%\n",
      "\n",
      "Epoch 9/20\n"
     ]
    },
    {
     "name": "stderr",
     "output_type": "stream",
     "text": [
      "Training Epoch 9: 100%|█████████████████████████████| 469/469 [00:45<00:00, 10.38it/s]\n",
      "Testing: 100%|████████████████████████████████████████| 79/79 [00:08<00:00,  9.55it/s]\n"
     ]
    },
    {
     "name": "stdout",
     "output_type": "stream",
     "text": [
      "Epoch 9\n",
      "Training - Loss: 0.5547, Accuracy: 99.04%\n",
      "Testing  - Accuracy: 99.17%\n",
      "Best Test Accuracy: 99.32%\n",
      "\n",
      "Epoch 10/20\n"
     ]
    },
    {
     "name": "stderr",
     "output_type": "stream",
     "text": [
      "Training Epoch 10: 100%|████████████████████████████| 469/469 [00:44<00:00, 10.47it/s]\n",
      "Testing: 100%|████████████████████████████████████████| 79/79 [00:07<00:00, 10.95it/s]"
     ]
    },
    {
     "name": "stdout",
     "output_type": "stream",
     "text": [
      "Epoch 10\n",
      "Training - Loss: 0.5513, Accuracy: 99.12%\n",
      "Testing  - Accuracy: 99.41%\n",
      "Best Test Accuracy: 99.41%\n",
      "\n",
      "Reached target accuracy of 99.4%!\n",
      "\n",
      "Training completed!\n",
      "Best Test Accuracy: 99.41%\n"
     ]
    },
    {
     "name": "stderr",
     "output_type": "stream",
     "text": [
      "\n"
     ]
    }
   ],
   "source": [
    "from model import *\n",
    "from torchsummary import summary\n",
    "m1 = SimpleMNISTNet()\n",
    "from rf_calc import receptive_field\n",
    "summary(m1, (1,28,28))\n",
    "from train import *\n",
    "train_and_test()"
   ]
  },
  {
   "cell_type": "code",
   "execution_count": null,
   "id": "936f3853-a12e-46af-b3b0-3091752c6e7e",
   "metadata": {},
   "outputs": [],
   "source": []
  }
 ],
 "metadata": {
  "kernelspec": {
   "display_name": "Python 3 (ipykernel)",
   "language": "python",
   "name": "python3"
  },
  "language_info": {
   "codemirror_mode": {
    "name": "ipython",
    "version": 3
   },
   "file_extension": ".py",
   "mimetype": "text/x-python",
   "name": "python",
   "nbconvert_exporter": "python",
   "pygments_lexer": "ipython3",
   "version": "3.12.7"
  }
 },
 "nbformat": 4,
 "nbformat_minor": 5
}
